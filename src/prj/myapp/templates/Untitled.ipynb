{
 "cells": [
  {
   "cell_type": "code",
   "execution_count": 2,
   "id": "5c92d83f-1218-41ee-9a96-a04e7fed4ff7",
   "metadata": {},
   "outputs": [
    {
     "name": "stdin",
     "output_type": "stream",
     "text": [
      "Entrez le chemin du répertoire contenant les fichiers HTML :  C:\\Users\\hp\\Downloads\\Archive_ESP\\S3\\SID\\Complement informatique\\Quiz\\Quiz 9 django\\Phase 1\\INPC-Data-Management-and-Analysis-Platform\\src\\prj\\myapp\\templates\n"
     ]
    },
    {
     "name": "stdout",
     "output_type": "stream",
     "text": [
      "Renommé: cartproducts_confirm_delete.html -> cartproducts-confirm-delete.html\n",
      "Renommé: cartproducts_detail.html -> cartproducts-detail.html\n",
      "Renommé: cartproducts_form.html -> cartproducts-form.html\n",
      "Renommé: cartproducts_list.html -> cartproducts-list.html\n",
      "Renommé: commune_confirm_delete.html -> commune-confirm-delete.html\n",
      "Renommé: commune_detail.html -> commune-detail.html\n",
      "Renommé: commune_form.html -> commune-form.html\n",
      "Renommé: commune_list.html -> commune-list.html\n",
      "Renommé: module_confirm_delete.html -> module-confirm-delete.html\n",
      "Renommé: module_detail.html -> module-detail.html\n",
      "Renommé: module_form.html -> module-form.html\n",
      "Renommé: module_list.html -> module-list.html\n",
      "Renommé: moughataa_confirm_delete.html -> moughataa-confirm-delete.html\n",
      "Renommé: moughataa_detail.html -> moughataa-detail.html\n",
      "Renommé: moughataa_form.html -> moughataa-form.html\n",
      "Renommé: moughataa_list.html -> moughataa-list.html\n",
      "Renommé: pointofsale_confirm_delete.html -> pointofsale-confirm-delete.html\n",
      "Renommé: pointofsale_detail.html -> pointofsale-detail.html\n",
      "Renommé: pointofsale_form.html -> pointofsale-form.html\n",
      "Renommé: pointofsale_list.html -> pointofsale-list.html\n",
      "Renommé: productprice_confirm_delete.html -> productprice-confirm-delete.html\n",
      "Renommé: productprice_detail.html -> productprice-detail.html\n",
      "Renommé: productprice_form.html -> productprice-form.html\n",
      "Renommé: productprice_list.html -> productprice-list.html\n",
      "Renommé: producttype_confirm_delete.html -> producttype-confirm-delete.html\n",
      "Renommé: producttype_detail.html -> producttype-detail.html\n",
      "Renommé: producttype_form.html -> producttype-form.html\n",
      "Renommé: producttype_list.html -> producttype-list.html\n",
      "Renommé: product_confirm_delete.html -> product-confirm-delete.html\n",
      "Renommé: product_detail.html -> product-detail.html\n",
      "Renommé: product_form.html -> product-form.html\n",
      "Renommé: product_list.html -> product-list.html\n",
      "Renommé: wilaya_confirm_delete - Copie.html -> wilaya-confirm-delete - Copie.html\n",
      "Renommé: wilaya_list.html -> wilaya-list.html\n",
      "Renommage terminé.\n"
     ]
    }
   ],
   "source": [
    "import os\n",
    "\n",
    "def rename_html_files_in_directory(directory_path):\n",
    "    try:\n",
    "        # Parcours de tous les fichiers dans le répertoire spécifié\n",
    "        for filename in os.listdir(directory_path):\n",
    "            # Vérifie si le fichier est un fichier HTML et contient un underscore\n",
    "            if filename.endswith('.html') and '_' in filename:\n",
    "                # Nouveau nom avec les underscores remplacés par des tirets\n",
    "                new_filename = filename.replace('_', '-')\n",
    "                \n",
    "                # Chemins complets pour le renommage\n",
    "                old_file_path = os.path.join(directory_path, filename)\n",
    "                new_file_path = os.path.join(directory_path, new_filename)\n",
    "\n",
    "                # Renommage du fichier\n",
    "                os.rename(old_file_path, new_file_path)\n",
    "                print(f\"Renommé: {filename} -> {new_filename}\")\n",
    "\n",
    "        print(\"Renommage terminé.\")\n",
    "    except Exception as e:\n",
    "        print(f\"Une erreur s'est produite : {e}\")\n",
    "\n",
    "# Exemple d'utilisation\n",
    "directory_path = input(\"Entrez le chemin du répertoire contenant les fichiers HTML : \")\n",
    "rename_html_files_in_directory(directory_path)"
   ]
  },
  {
   "cell_type": "code",
   "execution_count": null,
   "id": "9f83bbdb-a144-430d-8f8f-e9983f8074a1",
   "metadata": {},
   "outputs": [],
   "source": []
  }
 ],
 "metadata": {
  "kernelspec": {
   "display_name": "Python 3 (ipykernel)",
   "language": "python",
   "name": "python3"
  },
  "language_info": {
   "codemirror_mode": {
    "name": "ipython",
    "version": 3
   },
   "file_extension": ".py",
   "mimetype": "text/x-python",
   "name": "python",
   "nbconvert_exporter": "python",
   "pygments_lexer": "ipython3",
   "version": "3.12.7"
  }
 },
 "nbformat": 4,
 "nbformat_minor": 5
}
